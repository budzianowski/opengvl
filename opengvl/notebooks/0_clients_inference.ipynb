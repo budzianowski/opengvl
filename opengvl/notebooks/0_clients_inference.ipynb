{
 "cells": [
  {
   "cell_type": "markdown",
   "id": "d876566f",
   "metadata": {},
   "source": [
    "This notebook contains examples how to run inferences on external (closed source) models"
   ]
  },
  {
   "cell_type": "markdown",
   "id": "42d9a48c",
   "metadata": {},
   "source": [
    "### Setup"
   ]
  },
  {
   "cell_type": "code",
   "execution_count": 1,
   "id": "6eb72274",
   "metadata": {},
   "outputs": [
    {
     "data": {
      "text/plain": [
       "True"
      ]
     },
     "execution_count": 1,
     "metadata": {},
     "output_type": "execute_result"
    }
   ],
   "source": [
    "from dotenv import load_dotenv\n",
    "\n",
    "load_dotenv(\"./.env\", override=True)"
   ]
  },
  {
   "cell_type": "code",
   "execution_count": 2,
   "id": "716596b9",
   "metadata": {},
   "outputs": [
    {
     "name": "stderr",
     "output_type": "stream",
     "text": [
      "/home/mtyrolski/dev/opengvl/.venv/lib/python3.11/site-packages/tqdm/auto.py:21: TqdmWarning: IProgress not found. Please update jupyter and ipywidgets. See https://ipywidgets.readthedocs.io/en/stable/user_install.html\n",
      "  from .autonotebook import tqdm as notebook_tqdm\n",
      "2025-09-07 17:35:25.715548: I tensorflow/core/util/port.cc:153] oneDNN custom operations are on. You may see slightly different numerical results due to floating-point round-off errors from different computation orders. To turn them off, set the environment variable `TF_ENABLE_ONEDNN_OPTS=0`.\n",
      "2025-09-07 17:35:26.280026: E external/local_xla/xla/stream_executor/cuda/cuda_fft.cc:467] Unable to register cuFFT factory: Attempting to register factory for plugin cuFFT when one has already been registered\n",
      "WARNING: All log messages before absl::InitializeLog() is called are written to STDERR\n",
      "E0000 00:00:1757259326.497707   25870 cuda_dnn.cc:8579] Unable to register cuDNN factory: Attempting to register factory for plugin cuDNN when one has already been registered\n",
      "E0000 00:00:1757259326.562094   25870 cuda_blas.cc:1407] Unable to register cuBLAS factory: Attempting to register factory for plugin cuBLAS when one has already been registered\n",
      "W0000 00:00:1757259327.030059   25870 computation_placer.cc:177] computation placer already registered. Please check linkage and avoid linking the same target more than once.\n",
      "W0000 00:00:1757259327.030262   25870 computation_placer.cc:177] computation placer already registered. Please check linkage and avoid linking the same target more than once.\n",
      "W0000 00:00:1757259327.030266   25870 computation_placer.cc:177] computation placer already registered. Please check linkage and avoid linking the same target more than once.\n",
      "W0000 00:00:1757259327.030269   25870 computation_placer.cc:177] computation placer already registered. Please check linkage and avoid linking the same target more than once.\n",
      "2025-09-07 17:35:27.083803: I tensorflow/core/platform/cpu_feature_guard.cc:210] This TensorFlow binary is optimized to use available CPU instructions in performance-critical operations.\n",
      "To enable the following instructions: AVX2 AVX_VNNI FMA, in other operations, rebuild TensorFlow with the appropriate compiler flags.\n",
      "\u001b[32m2025-09-07 17:35:36.640\u001b[0m | \u001b[1mINFO    \u001b[0m | \u001b[36mopengvl.clients.gemini\u001b[0m:\u001b[36m__init__\u001b[0m:\u001b[36m25\u001b[0m - \u001b[1mUsing Gemini model gemini-2.5-flash-lite-preview-06-17\u001b[0m\n"
     ]
    }
   ],
   "source": [
    "from opengvl.clients.gemini import GeminiClient\n",
    "\n",
    "client = GeminiClient()"
   ]
  },
  {
   "cell_type": "code",
   "execution_count": null,
   "id": "7eead3ce",
   "metadata": {},
   "outputs": [],
   "source": [
    "# Minimal end-to-end inference example with a GeminiClient\n",
    "# (Requires GEMINI_API_KEY in environment and internet access.)\n",
    "\n",
    "import os\n",
    "from pprint import pprint\n",
    "\n",
    "import numpy as np\n",
    "\n",
    "from opengvl.clients.gemini import GeminiClient\n",
    "from opengvl.utils.constants import PromptPhraseKey\n",
    "from opengvl.utils.data_types import Episode\n",
    "from opengvl.utils.prompts import get_prompt\n",
    "\n",
    "# 1. Verify API key exists (fail fast for notebook users)\n",
    "if not os.getenv(\"GEMINI_API_KEY\"):\n",
    "    raise RuntimeError(\"GEMINI_API_KEY is not set in the environment. Create a .env file or export the variable before running.\")\n",
    "\n",
    "# 2. Create synthetic images (random noise) standing in for real frames.\n",
    "# In practice you would load frames from a dataset loader.\n",
    "RNG = np.random.default_rng(0)\n",
    "\n",
    "# Create a starting frame + 5 shuffled frames\n",
    "starting_frame = (RNG.random((244, 244, 3)) * 255).astype(\"uint8\")\n",
    "frames = [ (RNG.random((244, 244, 3)) * 255).astype(\"uint8\") for _ in range(5) ]\n",
    "\n",
    "# 3. Build a minimal Episode + (empty) context episodes list\n",
    "instruction = \"pick up the red block and place it on the blue platform\"\n",
    "original_indices = list(range(6))  # 1 start + 5 frames (simple increasing indices)\n",
    "# For simplicity we assign monotonically increasing task completion to original frames\n",
    "original_completion = [0, 10, 25, 40, 70, 90]\n",
    "# Shuffle order for model input (simulate random order frames for evaluation)\n",
    "shuffled_indices = [3, 1, 5, 2, 4]  # pick any permutation subset of original indices (excluding starting frame index 0)\n",
    "shuffled_frames = [frames[i-1] if i != 0 else starting_frame for i in shuffled_indices]\n",
    "# Approx completion rates aligned to shuffled frames (these are the ground-truth-like signals for context episodes; here just placeholders)\n",
    "shuffled_completion_approx = [original_completion[i] for i in shuffled_indices]\n",
    "\n",
    "episode = Episode(\n",
    "    instruction=instruction,\n",
    "    starting_frame=starting_frame,\n",
    "    episode_index=0,\n",
    "    original_frames_indices=original_indices,\n",
    "    shuffled_frames_indices=shuffled_indices,\n",
    "    shuffled_frames_approx_completion_rates=shuffled_completion_approx,\n",
    "    original_frames_task_completion_rates=original_completion,\n",
    "    shuffled_frames=shuffled_frames,\n",
    ")\n",
    "\n",
    "# 4. Provide a minimal set of required prompt phrases\n",
    "prompt_phrases = {\n",
    "    PromptPhraseKey.INITIAL_SCENE_LABEL.value: \"Initial Scene:\",\n",
    "    PromptPhraseKey.INITIAL_SCENE_COMPLETION.value: \"Estimated completion: 0%\",\n",
    "    PromptPhraseKey.CONTEXT_FRAME_LABEL_TEMPLATE.value: \"Context Frame {i}:\",\n",
    "    PromptPhraseKey.CONTEXT_FRAME_COMPLETION_TEMPLATE.value: \"Completion: {p}%\",\n",
    "    PromptPhraseKey.EVAL_FRAME_LABEL_TEMPLATE.value: \"Eval Frame {i}:\",\n",
    "    PromptPhraseKey.EVAL_TASK_COMPLETION_INSTRUCTION.value: [\n",
    "        \"Now, for the task of {instruction}, give ONLY the completion percentage for each Eval Frame.\",\n",
    "        \"Format strictly: 'Eval Frame X: <number>%' with no extra commentary.\",\n",
    "    ],\n",
    "}\n",
    "\n",
    "prompt = get_prompt(instruction)\n",
    "\n",
    "# 5. Instantiate the client (choose an available model name)\n",
    "# Replace 'gemini-1.5-flash' with another Gemini model you have access to if needed.\n",
    "client = GeminiClient(model_name=\"gemini-1.5-flash\", rpm=30)\n",
    "\n",
    "# 6. Run inference (no context episodes in this synthetic example)\n",
    "response_text = client.generate_response(\n",
    "    prompt=prompt,\n",
    "    eval_episode=episode,\n",
    "    context_episodes=[],\n",
    "    prompt_phrases=prompt_phrases,\n",
    ")\n",
    "\n",
    "print(\"Raw model output:\\n\", response_text)\n",
    "\n",
    "# 7. (Optional) Parse percentages using a simple heuristic regex\n",
    "import re\n",
    "\n",
    "pattern = re.compile(r\"Eval Frame (\\d+):\\s*(\\d{1,3})%\")\n",
    "parsed = [(int(m.group(1)), int(m.group(2))) for m in pattern.finditer(response_text)]\n",
    "print(\"\\nParsed percentages:\")\n",
    "print(parsed)\n",
    "\n",
    "# 8. (Optional) Map parsed results back to shuffled frame order\n",
    "# (Frame numbers in the model output start after context frames + initial scene logic in BaseModelClient.)\n",
    "print(\"\\nEpisode summary:\")\n",
    "pprint({\n",
    "    \"instruction\": instruction,\n",
    "    \"shuffled_indices\": shuffled_indices,\n",
    "    \"parsed\": parsed,\n",
    "})\n"
   ]
  }
 ],
 "metadata": {
  "kernelspec": {
   "display_name": "gvl (3.11.4)",
   "language": "python",
   "name": "python3"
  },
  "language_info": {
   "codemirror_mode": {
    "name": "ipython",
    "version": 3
   },
   "file_extension": ".py",
   "mimetype": "text/x-python",
   "name": "python",
   "nbconvert_exporter": "python",
   "pygments_lexer": "ipython3",
   "version": "3.11.4"
  }
 },
 "nbformat": 4,
 "nbformat_minor": 5
}
