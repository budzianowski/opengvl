{
 "cells": [
  {
   "cell_type": "markdown",
   "id": "d876566f",
   "metadata": {},
   "source": [
    "This notebook contains examples how to run inferences on external (closed source) models"
   ]
  },
  {
   "cell_type": "markdown",
   "id": "42d9a48c",
   "metadata": {},
   "source": [
    "### Setup"
   ]
  },
  {
   "cell_type": "code",
   "execution_count": null,
   "id": "6eb72274",
   "metadata": {},
   "outputs": [],
   "source": [
    "from dotenv import load_dotenv\n",
    "\n",
    "load_dotenv('./.env', override=True)"
   ]
  },
  {
   "cell_type": "code",
   "execution_count": null,
   "id": "716596b9",
   "metadata": {},
   "outputs": [],
   "source": [
    "from opengvl.clients.gemini import GeminiClient\n",
    "\n",
    "client = GeminiClient()"
   ]
  },
  {
   "cell_type": "code",
   "execution_count": null,
   "id": "7eead3ce",
   "metadata": {},
   "outputs": [],
   "source": []
  }
 ],
 "metadata": {
  "kernelspec": {
   "display_name": "gvl (3.11.4)",
   "language": "python",
   "name": "python3"
  },
  "language_info": {
   "codemirror_mode": {
    "name": "ipython",
    "version": 3
   },
   "file_extension": ".py",
   "mimetype": "text/x-python",
   "name": "python",
   "nbconvert_exporter": "python",
   "pygments_lexer": "ipython3",
   "version": "3.11.4"
  }
 },
 "nbformat": 4,
 "nbformat_minor": 5
}
