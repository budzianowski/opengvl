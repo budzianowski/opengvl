{
 "cells": [
  {
   "cell_type": "markdown",
   "id": "d876566f",
   "metadata": {},
   "source": [
    "This notebook contains examples how to run inferences on external (closed source) models"
   ]
  },
  {
   "cell_type": "code",
   "execution_count": null,
   "id": "6eb72274",
   "metadata": {
    "vscode": {
     "languageId": "plaintext"
    }
   },
   "outputs": [],
   "source": []
  }
 ],
 "metadata": {
  "language_info": {
   "name": "python"
  }
 },
 "nbformat": 4,
 "nbformat_minor": 5
}
